{
 "cells": [
  {
   "cell_type": "markdown",
   "metadata": {},
   "source": [
    "# Label data \n",
    "\n",
    "This notebook is used to label the bee and the plant roots images.  For the purpose of this tutorial we consider labels and patches to be related but different concepts. \n",
    "\n",
    "### Labels\n",
    "\n",
    "Labels are sets of original input data and corresponding ground truths annotations.  There is no requirement for labels to be the same size.\n",
    "\n",
    "### Patches\n",
    "\n",
    "Patches are sets of input data and ground truths curated for use as training data for a neural network.  Often Patches are all the same size.  Patches are often cropped from label sets.  Patches can also be augmented (scaled, flipped, rotated)\n",
    "\n",
    "This notebook demonstrates how to create labels using Napari annotation tools, the next notebook shows how to create a set of training patches from the labels. "
   ]
  },
  {
   "cell_type": "markdown",
   "metadata": {},
   "source": [
    "## Open Image and (possibly) pre-existing label"
   ]
  },
  {
   "cell_type": "code",
   "execution_count": 1,
   "metadata": {},
   "outputs": [
    {
     "name": "stdout",
     "output_type": "stream",
     "text": [
      "(512, 512)\n",
      "labels loaded\n"
     ]
    }
   ],
   "source": [
    "from skimage.io import imread, imsave\n",
    "import napari\n",
    "import os\n",
    "import numpy as np\n",
    "from pathlib import Path\n",
    "\n",
    "#parent_path=Path(r'../../data/roots')\n",
    "#ext = '.jpg'\n",
    "\n",
    "parent_path=Path(r'../../data/bees')\n",
    "ext = '.tif'\n",
    "\n",
    "label_path = Path(parent_path / r'labels')\n",
    "image_path = Path(label_path / r'images')\n",
    "mask_path = Path(label_path / r'masks')\n",
    "\n",
    "if not os.path.exists(mask_path):\n",
    "    os.makedirs(mask_path)\n",
    "\n",
    "files = list(image_path.glob('*.jpg'))\n",
    "files = files+list(image_path.glob('*.tif'))\n",
    "\n",
    "index = 0\n",
    "splitter = files[index].name.split('.')\n",
    "name = splitter[0]\n",
    "\n",
    "im = imread(os.path.join(image_path / (name+ext)))\n",
    "print(im.shape)\n",
    "\n",
    "\n",
    "#labels = np.zeros(im.shape, dtype=np.uint8)\n",
    "try:\n",
    "    labels = imread(os.path.join(mask_path / (name+\".tif\")))\n",
    "    print('labels loaded')\n",
    "except:\n",
    "    print('labels not created yet', (os.path.join(label_path / (name+\".tif\"))))\n",
    "    labels = np.zeros((im.shape[0], im.shape[1]), dtype=np.uint8)"
   ]
  },
  {
   "cell_type": "markdown",
   "metadata": {},
   "source": [
    "## Edit in napari\n",
    "\n",
    "Now edit the labels in Napari.  When I did it, I just fixed some obvious mixes and tweaked some of the clusters a bit (the clusters are really hard so who knows if I imporved the situation there, I did fix some obvious misses though)"
   ]
  },
  {
   "cell_type": "code",
   "execution_count": 2,
   "metadata": {},
   "outputs": [
    {
     "name": "stderr",
     "output_type": "stream",
     "text": [
      "napari.manifest -> 'napari-hello' could not be imported: Cannot find module 'napari_plugins' declared in entrypoint: 'napari_plugins:napari.yaml'\n"
     ]
    },
    {
     "data": {
      "text/plain": [
       "<Labels layer 'labels' at 0x1eda313cc40>"
      ]
     },
     "execution_count": 2,
     "metadata": {},
     "output_type": "execute_result"
    }
   ],
   "source": [
    "viewer = napari.Viewer()\n",
    "viewer.add_image(im, name='im')\n",
    "viewer.add_labels(labels, name='labels')"
   ]
  },
  {
   "cell_type": "markdown",
   "metadata": {},
   "source": [
    "## Save modified labels"
   ]
  },
  {
   "cell_type": "code",
   "execution_count": 100,
   "metadata": {},
   "outputs": [
    {
     "name": "stderr",
     "output_type": "stream",
     "text": [
      "C:\\Users\\bnort\\AppData\\Local\\Temp\\ipykernel_1140\\65754678.py:1: UserWarning: ..\\..\\data\\roots\\labels\\masks\\16_06_21_10E5b_P6210591_000.tif is a low contrast image\n",
      "  imsave(os.path.join(mask_path / (name+\".tif\")), labels)\n"
     ]
    }
   ],
   "source": [
    "\n",
    "imsave(os.path.join(mask_path / (name+\".tif\")), labels)"
   ]
  },
  {
   "cell_type": "code",
   "execution_count": null,
   "metadata": {},
   "outputs": [],
   "source": []
  }
 ],
 "metadata": {
  "kernelspec": {
   "display_name": "dresden-decon-test1",
   "language": "python",
   "name": "python3"
  },
  "language_info": {
   "codemirror_mode": {
    "name": "ipython",
    "version": 3
   },
   "file_extension": ".py",
   "mimetype": "text/x-python",
   "name": "python",
   "nbconvert_exporter": "python",
   "pygments_lexer": "ipython3",
   "version": "3.9.16"
  }
 },
 "nbformat": 4,
 "nbformat_minor": 2
}
